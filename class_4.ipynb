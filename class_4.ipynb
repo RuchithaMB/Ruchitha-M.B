{
  "nbformat": 4,
  "nbformat_minor": 0,
  "metadata": {
    "colab": {
      "name": "class 4.ipynb",
      "provenance": [],
      "authorship_tag": "ABX9TyP2naIURSt59agus25GAH5W",
      "include_colab_link": true
    },
    "kernelspec": {
      "name": "python3",
      "display_name": "Python 3"
    },
    "language_info": {
      "name": "python"
    }
  },
  "cells": [
    {
      "cell_type": "markdown",
      "metadata": {
        "id": "view-in-github",
        "colab_type": "text"
      },
      "source": [
        "<a href=\"https://colab.research.google.com/github/RuchithaMB/Ruchitha-M.B/blob/main/class_4.ipynb\" target=\"_parent\"><img src=\"https://colab.research.google.com/assets/colab-badge.svg\" alt=\"Open In Colab\"/></a>"
      ]
    },
    {
      "cell_type": "code",
      "metadata": {
        "colab": {
          "base_uri": "https://localhost:8080/"
        },
        "id": "KpNC34oM8kZL",
        "outputId": "786eeeea-da60-42a4-abab-04ba17312c84"
      },
      "source": [
        "# form the word SWING using 3 letter word , find the permutation if repetition is not allowed \n",
        "def fact(n):\n",
        "  if n ==0:\n",
        "    return 1\n",
        "\n",
        "  else:\n",
        "\n",
        "    return (n*fact(n-1))\n",
        "\n",
        "n = len(input(\"enter the string:\"))\n",
        "\n",
        "r = int(input(\"enter the number of letters allowed:\"))\n",
        "\n",
        "p = fact(n)/fact(n-r)\n",
        "\n",
        "print(\"the permutation for the given problem is:\",p)\n",
        "\n"
      ],
      "execution_count": 11,
      "outputs": [
        {
          "output_type": "stream",
          "text": [
            "enter the string:SWING\n",
            "enter the number of letters allowed:3\n",
            "the permutation for the given problem is: 60.0\n"
          ],
          "name": "stdout"
        }
      ]
    },
    {
      "cell_type": "code",
      "metadata": {
        "colab": {
          "base_uri": "https://localhost:8080/"
        },
        "id": "c2hKg_NXH5yN",
        "outputId": "130dcedd-22a7-44f8-9a95-597e86a0e354"
      },
      "source": [
        "# form the word SWING using 3 letter word , find the permutation if repetition is allowed \n",
        "n= len(input(\"enetr the string \"))\n",
        "r = int(input(\"enter the number of letters allowed:\"))\n",
        "p = n**r\n",
        "\n",
        "print(\"the permutation for the given problem is:\",p)"
      ],
      "execution_count": 13,
      "outputs": [
        {
          "output_type": "stream",
          "text": [
            "enetr the string SWING\n",
            "enter the number of letters allowed:3\n",
            "the permutation for the given problem is: 125\n"
          ],
          "name": "stdout"
        }
      ]
    }
  ]
}