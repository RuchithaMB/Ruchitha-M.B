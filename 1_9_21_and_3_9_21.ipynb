{
  "nbformat": 4,
  "nbformat_minor": 0,
  "metadata": {
    "colab": {
      "name": "1.9.21 and 3.9.21.ipynb",
      "provenance": [],
      "collapsed_sections": [],
      "authorship_tag": "ABX9TyNfjquNjlPeTzgI2bEtzIAj",
      "include_colab_link": true
    },
    "kernelspec": {
      "name": "python3",
      "display_name": "Python 3"
    },
    "language_info": {
      "name": "python"
    }
  },
  "cells": [
    {
      "cell_type": "markdown",
      "metadata": {
        "id": "view-in-github",
        "colab_type": "text"
      },
      "source": [
        "<a href=\"https://colab.research.google.com/github/RuchithaMB/Ruchitha-M.B/blob/main/1_9_21_and_3_9_21.ipynb\" target=\"_parent\"><img src=\"https://colab.research.google.com/assets/colab-badge.svg\" alt=\"Open In Colab\"/></a>"
      ]
    },
    {
      "cell_type": "code",
      "metadata": {
        "colab": {
          "base_uri": "https://localhost:8080/"
        },
        "id": "oFO9K1LSMM7V",
        "outputId": "9c4826d6-0a5b-4a82-b9da-6da74958a4fa"
      },
      "source": [
        "a={1,2,3,4,5}\n",
        "b={5,6,7}\n",
        "\n",
        "#print( 2 in a)\n",
        "\n",
        "type(2 in a)\n"
      ],
      "execution_count": null,
      "outputs": [
        {
          "output_type": "execute_result",
          "data": {
            "text/plain": [
              "bool"
            ]
          },
          "metadata": {},
          "execution_count": 2
        }
      ]
    },
    {
      "cell_type": "code",
      "metadata": {
        "colab": {
          "base_uri": "https://localhost:8080/"
        },
        "id": "TuL9W89TMr4g",
        "outputId": "16a1401d-09bd-427b-aff4-48b2a3380641"
      },
      "source": [
        "a={1,2,3,4,5}\n",
        "b={2,5}\n",
        "\n",
        "b.issubset(a)"
      ],
      "execution_count": null,
      "outputs": [
        {
          "output_type": "execute_result",
          "data": {
            "text/plain": [
              "True"
            ]
          },
          "metadata": {},
          "execution_count": 4
        }
      ]
    },
    {
      "cell_type": "code",
      "metadata": {
        "colab": {
          "base_uri": "https://localhost:8080/"
        },
        "id": "5NCQIK36NZxE",
        "outputId": "6a4c4dba-8333-4f01-9ecc-05ad568c631f"
      },
      "source": [
        "def is_subset(a,b):\n",
        "  for e in a:\n",
        "\n",
        "    if e in b:\n",
        "\n",
        "      pass \n",
        "\n",
        "    else:\n",
        "      return False \n",
        "\n",
        "  return True \n",
        "\n",
        "a={1,2,3,4,5}\n",
        "b={5,6,7}\n",
        "\n",
        "sub = is_subset(a,b) \n",
        "#or sub = is_subset({1,2,3,4,5},{5,6,7})\n",
        "\n",
        "print(sub)"
      ],
      "execution_count": null,
      "outputs": [
        {
          "output_type": "stream",
          "name": "stdout",
          "text": [
            "False\n"
          ]
        }
      ]
    },
    {
      "cell_type": "code",
      "metadata": {
        "colab": {
          "base_uri": "https://localhost:8080/"
        },
        "id": "hwsDGXkvQ4xJ",
        "outputId": "927d4e7a-a94f-48d7-b01b-606a6fbe2f34"
      },
      "source": [
        "import numpy as np\n",
        "\n",
        "uni = set(np.arange(10))\n",
        "\n",
        "A= set(np.arange(0,9,2))\n",
        "B= set(np.arange(0,9,3))\n",
        "\n",
        "print(\"\\nuniversal set:\", uni)\n",
        "print(\"\\nset A:\", A)\n",
        "print(\"\\nset B:\", B)\n",
        "\n",
        "print(\"\\nA U B :\",A.union(B))\n"
      ],
      "execution_count": null,
      "outputs": [
        {
          "output_type": "stream",
          "name": "stdout",
          "text": [
            "\n",
            "universal set: {0, 1, 2, 3, 4, 5, 6, 7, 8, 9}\n",
            "\n",
            "set A: {0, 2, 4, 6, 8}\n",
            "\n",
            "set B: {0, 3, 6}\n",
            "\n",
            "A U B : {0, 2, 3, 4, 6, 8}\n"
          ]
        }
      ]
    },
    {
      "cell_type": "code",
      "metadata": {
        "id": "27GNez1OR9bd",
        "colab": {
          "base_uri": "https://localhost:8080/"
        },
        "outputId": "78c08e50-412d-40ed-8f49-86cd37357f7f"
      },
      "source": [
        "import numpy as np\n",
        "\n",
        "uni = set(np.arange(10))\n",
        "\n",
        "A= set(np.arange(0,9,2))\n",
        "B= set(np.arange(0,9,3))\n",
        "\n",
        "print(\"\\nuniversal set:\", uni)\n",
        "\n",
        "print(\"\\nset A:\", A)\n",
        "\n",
        "print(\"\\nset B:\", B)\n",
        "\n",
        "print(\"\\nA U B :\",A.union(B))\n",
        "\n",
        "print(\"\\nA n B :\",A.intersection(B))\n",
        "\n",
        "print(\"\\nA - B :\",A.difference(B))\n",
        "\n",
        "print(\"\\nA' :\",uni.difference(A))"
      ],
      "execution_count": 1,
      "outputs": [
        {
          "output_type": "stream",
          "name": "stdout",
          "text": [
            "\n",
            "universal set: {0, 1, 2, 3, 4, 5, 6, 7, 8, 9}\n",
            "\n",
            "set A: {0, 2, 4, 6, 8}\n",
            "\n",
            "set B: {0, 3, 6}\n",
            "\n",
            "A U B : {0, 2, 3, 4, 6, 8}\n",
            "\n",
            "A n B : {0, 6}\n",
            "\n",
            "A - B : {8, 2, 4}\n",
            "\n",
            "A' : {1, 3, 5, 7, 9}\n"
          ]
        }
      ]
    },
    {
      "cell_type": "code",
      "metadata": {
        "colab": {
          "base_uri": "https://localhost:8080/"
        },
        "id": "65daH_1Lp-s1",
        "outputId": "277bb74d-5283-455a-a320-7c5b69e7dda1"
      },
      "source": [
        "import numpy as np\n",
        "\n",
        "uni = set(np.arange(10))\n",
        "\n",
        "A= set(np.arange(0,9,2))\n",
        "B= set(np.arange(0,9,3))\n",
        "\n",
        "V=A.union(B)\n",
        "\n",
        "W = uni.difference(V)\n",
        "\n",
        "X= uni.difference(B)\n",
        "\n",
        "Y= uni.difference(A)\n",
        "\n",
        "Z= Y.intersection(X)\n",
        "\n",
        "if uni.difference(A.union(B))== Y.intersection(uni.difference(B)):\n",
        "   print(\"true\")\n",
        "\n",
        "else:\n",
        "  print (\"\\nfalse\")\n"
      ],
      "execution_count": 2,
      "outputs": [
        {
          "output_type": "stream",
          "name": "stdout",
          "text": [
            "true\n"
          ]
        }
      ]
    }
  ]
}