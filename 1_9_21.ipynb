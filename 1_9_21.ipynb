{
  "nbformat": 4,
  "nbformat_minor": 0,
  "metadata": {
    "colab": {
      "name": "1.9.21.ipynb",
      "provenance": [],
      "authorship_tag": "ABX9TyPeTXQQBk40EYoRY5uWt4Px",
      "include_colab_link": true
    },
    "kernelspec": {
      "name": "python3",
      "display_name": "Python 3"
    },
    "language_info": {
      "name": "python"
    }
  },
  "cells": [
    {
      "cell_type": "markdown",
      "metadata": {
        "id": "view-in-github",
        "colab_type": "text"
      },
      "source": [
        "<a href=\"https://colab.research.google.com/github/RuchithaMB/Ruchitha-M.B/blob/main/1_9_21.ipynb\" target=\"_parent\"><img src=\"https://colab.research.google.com/assets/colab-badge.svg\" alt=\"Open In Colab\"/></a>"
      ]
    },
    {
      "cell_type": "code",
      "metadata": {
        "colab": {
          "base_uri": "https://localhost:8080/"
        },
        "id": "oFO9K1LSMM7V",
        "outputId": "9c4826d6-0a5b-4a82-b9da-6da74958a4fa"
      },
      "source": [
        "a={1,2,3,4,5}\n",
        "b={5,6,7}\n",
        "\n",
        "#print( 2 in a)\n",
        "\n",
        "type(2 in a)\n"
      ],
      "execution_count": 2,
      "outputs": [
        {
          "output_type": "execute_result",
          "data": {
            "text/plain": [
              "bool"
            ]
          },
          "metadata": {},
          "execution_count": 2
        }
      ]
    },
    {
      "cell_type": "code",
      "metadata": {
        "colab": {
          "base_uri": "https://localhost:8080/"
        },
        "id": "TuL9W89TMr4g",
        "outputId": "16a1401d-09bd-427b-aff4-48b2a3380641"
      },
      "source": [
        "a={1,2,3,4,5}\n",
        "b={2,5}\n",
        "\n",
        "b.issubset(a)"
      ],
      "execution_count": 4,
      "outputs": [
        {
          "output_type": "execute_result",
          "data": {
            "text/plain": [
              "True"
            ]
          },
          "metadata": {},
          "execution_count": 4
        }
      ]
    },
    {
      "cell_type": "code",
      "metadata": {
        "colab": {
          "base_uri": "https://localhost:8080/"
        },
        "id": "5NCQIK36NZxE",
        "outputId": "6a4c4dba-8333-4f01-9ecc-05ad568c631f"
      },
      "source": [
        "def is_subset(a,b):\n",
        "  for e in a:\n",
        "\n",
        "    if e in b:\n",
        "\n",
        "      pass \n",
        "\n",
        "    else:\n",
        "      return False \n",
        "\n",
        "  return True \n",
        "\n",
        "a={1,2,3,4,5}\n",
        "b={5,6,7}\n",
        "\n",
        "sub = is_subset(a,b) \n",
        "#or sub = is_subset({1,2,3,4,5},{5,6,7})\n",
        "\n",
        "print(sub)"
      ],
      "execution_count": 14,
      "outputs": [
        {
          "output_type": "stream",
          "name": "stdout",
          "text": [
            "False\n"
          ]
        }
      ]
    },
    {
      "cell_type": "code",
      "metadata": {
        "colab": {
          "base_uri": "https://localhost:8080/"
        },
        "id": "hwsDGXkvQ4xJ",
        "outputId": "e6c5d1b4-32c4-40a5-ec0e-d7dff94bfa44"
      },
      "source": [
        "import numpy as np\n",
        "\n",
        "uni = set(np.arange(10))\n",
        "\n",
        "A= set(np.arange(0,9,2))\n",
        "B= set(np.arange(0,9,3))\n",
        "\n",
        "print(\"\\nuniversal set:\", uni)\n",
        "print(\"\\nset A:\", A)\n",
        "print(\"\\nset B:\", B)\n",
        "\n",
        "print(\"\\nA U B :\",A.union(B))"
      ],
      "execution_count": 16,
      "outputs": [
        {
          "output_type": "stream",
          "name": "stdout",
          "text": [
            "\n",
            "universal set: {0, 1, 2, 3, 4, 5, 6, 7, 8, 9}\n",
            "\n",
            "set A: {0, 2, 4, 6, 8}\n",
            "\n",
            "set B: {0, 3, 6}\n",
            "\n",
            "A U B : {0, 2, 3, 4, 6, 8}\n"
          ]
        }
      ]
    },
    {
      "cell_type": "code",
      "metadata": {
        "id": "27GNez1OR9bd"
      },
      "source": [
        ""
      ],
      "execution_count": null,
      "outputs": []
    }
  ]
}