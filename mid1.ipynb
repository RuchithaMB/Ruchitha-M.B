{
  "nbformat": 4,
  "nbformat_minor": 0,
  "metadata": {
    "colab": {
      "name": "Untitled13.ipynb",
      "provenance": [],
      "authorship_tag": "ABX9TyMJ8ClwaXahFJoKgweJIZjm",
      "include_colab_link": true
    },
    "kernelspec": {
      "name": "python3",
      "display_name": "Python 3"
    },
    "language_info": {
      "name": "python"
    }
  },
  "cells": [
    {
      "cell_type": "markdown",
      "metadata": {
        "id": "view-in-github",
        "colab_type": "text"
      },
      "source": [
        "<a href=\"https://colab.research.google.com/github/RuchithaMB/Ruchitha-M.B/blob/main/mid1.ipynb\" target=\"_parent\"><img src=\"https://colab.research.google.com/assets/colab-badge.svg\" alt=\"Open In Colab\"/></a>"
      ]
    },
    {
      "cell_type": "code",
      "metadata": {
        "colab": {
          "base_uri": "https://localhost:8080/"
        },
        "id": "pAMqQJfQ_4nM",
        "outputId": "16c0dc91-b0be-4e76-ce8a-68f6428ed5e9"
      },
      "source": [
        "#without replacement\n",
        "N = int(input(\"Number of screws:\"))\n",
        "\n",
        "K = int(input(\"Number of defective screws:\"))\n",
        "\n",
        "F = N-K\n",
        "\n",
        "pscrew1 = (F/N)\n",
        "pscrew2 = ((F-1)/(N-1))\n",
        "\n",
        "ans = pscrew1*pscrew2\n",
        "print(\"The probability of picking 2 screws without replacement:\",round(ans,2))"
      ],
      "execution_count": 5,
      "outputs": [
        {
          "output_type": "stream",
          "name": "stdout",
          "text": [
            "Number of screws:10\n",
            "Number of defective screws:3\n",
            "The probability of picking 2 screws without replacement: 0.47\n"
          ]
        }
      ]
    },
    {
      "cell_type": "code",
      "metadata": {
        "colab": {
          "base_uri": "https://localhost:8080/"
        },
        "id": "VRycDhAuRzNG",
        "outputId": "a9ebf329-8836-4402-f833-edfd2a2d7c56"
      },
      "source": [
        "#with replacement\n",
        "N = int(input(\"Number of screws:\"))\n",
        "\n",
        "K = int(input(\"Number of defective screws:\"))\n",
        "\n",
        "F = N-K\n",
        "pscrew1 = (F/N)\n",
        "ans = pscrew1*pscrew1\n",
        "print(\"The probability of picking 2 screws with replacement:\",round(ans,2))"
      ],
      "execution_count": 3,
      "outputs": [
        {
          "output_type": "stream",
          "name": "stdout",
          "text": [
            "Number of screws:10\n",
            "Number of defective screws:3\n",
            "The probability of picking 2 screws with replacement: 0.49\n"
          ]
        }
      ]
    }
  ]
}