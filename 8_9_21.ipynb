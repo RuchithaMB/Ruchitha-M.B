{
  "nbformat": 4,
  "nbformat_minor": 0,
  "metadata": {
    "colab": {
      "name": "8.9.21.ipynb",
      "provenance": [],
      "collapsed_sections": [],
      "authorship_tag": "ABX9TyMD29ikiEZ5YJrnaofbhI0F",
      "include_colab_link": true
    },
    "kernelspec": {
      "name": "python3",
      "display_name": "Python 3"
    },
    "language_info": {
      "name": "python"
    }
  },
  "cells": [
    {
      "cell_type": "markdown",
      "metadata": {
        "id": "view-in-github",
        "colab_type": "text"
      },
      "source": [
        "<a href=\"https://colab.research.google.com/github/RuchithaMB/Ruchitha-M.B/blob/main/8_9_21.ipynb\" target=\"_parent\"><img src=\"https://colab.research.google.com/assets/colab-badge.svg\" alt=\"Open In Colab\"/></a>"
      ]
    },
    {
      "cell_type": "code",
      "metadata": {
        "colab": {
          "base_uri": "https://localhost:8080/"
        },
        "id": "NKUA3XXiMGQE",
        "outputId": "785a0da4-bd65-4f71-c0d2-b55c9a796ff8"
      },
      "source": [
        "def card_probability(fav,T_Outcome):\n",
        "\n",
        "   prob =(fav/T_Outcome)\n",
        "\n",
        "   return prob\n",
        "\n",
        "Red_Hearts = 13\n",
        "Sample_Size = 52\n",
        "Face_Cards = 12\n",
        "\n",
        "Prob_RedHearts = card_probability(Red_Hearts,Sample_Size)\n",
        "print(\"The answer is\",Prob_RedHearts)\n",
        "\n",
        "Prob_Facecards = round(card_probability(Face_Cards,Sample_Size),2)\n",
        "print(\"The answer is\",Prob_Facecards)\n",
        "\n"
      ],
      "execution_count": 13,
      "outputs": [
        {
          "output_type": "stream",
          "name": "stdout",
          "text": [
            "The answer is 0.25\n",
            "The answer is 0.23\n"
          ]
        }
      ]
    },
    {
      "cell_type": "code",
      "metadata": {
        "colab": {
          "base_uri": "https://localhost:8080/"
        },
        "id": "cXxBPF94UJp8",
        "outputId": "9e52200c-5904-4e1e-9934-7621f8a15cb8"
      },
      "source": [
        "# A: event of getting odd number\n",
        "# B: event of getting less than 4\n",
        "\n",
        "S ={1,2,3,4,5,6}\n",
        "A ={1,3,5}\n",
        "B ={1,2,3}\n",
        "\n",
        "#probability =(event_outcomes/sample_space)\n",
        "#P(A U B)=(|A| +|B| -|A n B) / |S|\n",
        "\n",
        "prob= (len(A)+len(B)-len(A.intersection(B)))/len(S)\n",
        "\n",
        "print(\"the answer is:\", round((prob),2))"
      ],
      "execution_count": 12,
      "outputs": [
        {
          "output_type": "stream",
          "name": "stdout",
          "text": [
            "the answer is: 0.67\n"
          ]
        }
      ]
    }
  ]
}