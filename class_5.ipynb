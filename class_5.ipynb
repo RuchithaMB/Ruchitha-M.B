{
  "nbformat": 4,
  "nbformat_minor": 0,
  "metadata": {
    "colab": {
      "name": "class 5.ipynb",
      "provenance": [],
      "authorship_tag": "ABX9TyMDsqdGW06AjgXHssUXHmRE",
      "include_colab_link": true
    },
    "kernelspec": {
      "name": "python3",
      "display_name": "Python 3"
    },
    "language_info": {
      "name": "python"
    }
  },
  "cells": [
    {
      "cell_type": "markdown",
      "metadata": {
        "id": "view-in-github",
        "colab_type": "text"
      },
      "source": [
        "<a href=\"https://colab.research.google.com/github/RuchithaMB/Ruchitha-M.B/blob/main/class_5.ipynb\" target=\"_parent\"><img src=\"https://colab.research.google.com/assets/colab-badge.svg\" alt=\"Open In Colab\"/></a>"
      ]
    },
    {
      "cell_type": "code",
      "metadata": {
        "id": "jYC8KAz4AMoc",
        "colab": {
          "base_uri": "https://localhost:8080/"
        },
        "outputId": "b57d7b28-e68c-4ce4-8431-f8fcc6b629ac"
      },
      "source": [
        "# form the word SWING using 3 letter word , find the permutation if repetition is not allowed with math function\n",
        "import math\n",
        "\n",
        "word = len(str(input(\"enter the word:\")))\n",
        "letters = int(input(\"enter the number of letters allowed:\"))\n",
        "\n",
        "result = math.factorial(word)/math.factorial(word - letters)\n",
        "\n",
        "print(\"the permutation for the given problem is:\",result)\n"
      ],
      "execution_count": 4,
      "outputs": [
        {
          "output_type": "stream",
          "text": [
            "enter the word:SWING \n",
            "enter the number of letters allowed:3\n",
            "the permutation for the given problem is: 120.0\n"
          ],
          "name": "stdout"
        }
      ]
    },
    {
      "cell_type": "code",
      "metadata": {
        "colab": {
          "base_uri": "https://localhost:8080/"
        },
        "id": "2nPsWjz9D_Oh",
        "outputId": "04463332-c998-4266-857d-f5613430a824"
      },
      "source": [
        "# form the word SWING using 3 letter word , find the permutation if repetition is not allowed with itertools function\n",
        "\n",
        "from itertools import permutations\n",
        "\n",
        "word = str(input(\"enter the word:\"))\n",
        "letters = int(input(\"enter the number of letters allowed:\"))\n",
        "\n",
        "p= len(list(permutations(word,letters)))\n",
        "\n",
        "print(\"the permutation for the given problem is:\",p)\n"
      ],
      "execution_count": 7,
      "outputs": [
        {
          "output_type": "stream",
          "text": [
            "enter the word:SWING\n",
            "enter the number of letters allowed:3\n",
            "the permutation for the given problem is: 60\n"
          ],
          "name": "stdout"
        }
      ]
    },
    {
      "cell_type": "code",
      "metadata": {
        "colab": {
          "base_uri": "https://localhost:8080/"
        },
        "id": "dJ1nWwkBGyNm",
        "outputId": "b3c79dd9-c7cf-4bd0-b111-ded39d9cec4d"
      },
      "source": [
        "# Find all the possible permutations for the string \"GITAM\"\n",
        "\n",
        "from itertools import permutations\n",
        "\n",
        "string =\"GITAM\"\n",
        "\n",
        "result = list(permutations(string,3))\n",
        "\n",
        "for i in result:\n",
        "\n",
        "   print(i)\n",
        "\n",
        "\n",
        "\n"
      ],
      "execution_count": 16,
      "outputs": [
        {
          "output_type": "stream",
          "text": [
            "('G', 'I', 'T')\n",
            "('G', 'I', 'A')\n",
            "('G', 'I', 'M')\n",
            "('G', 'T', 'I')\n",
            "('G', 'T', 'A')\n",
            "('G', 'T', 'M')\n",
            "('G', 'A', 'I')\n",
            "('G', 'A', 'T')\n",
            "('G', 'A', 'M')\n",
            "('G', 'M', 'I')\n",
            "('G', 'M', 'T')\n",
            "('G', 'M', 'A')\n",
            "('I', 'G', 'T')\n",
            "('I', 'G', 'A')\n",
            "('I', 'G', 'M')\n",
            "('I', 'T', 'G')\n",
            "('I', 'T', 'A')\n",
            "('I', 'T', 'M')\n",
            "('I', 'A', 'G')\n",
            "('I', 'A', 'T')\n",
            "('I', 'A', 'M')\n",
            "('I', 'M', 'G')\n",
            "('I', 'M', 'T')\n",
            "('I', 'M', 'A')\n",
            "('T', 'G', 'I')\n",
            "('T', 'G', 'A')\n",
            "('T', 'G', 'M')\n",
            "('T', 'I', 'G')\n",
            "('T', 'I', 'A')\n",
            "('T', 'I', 'M')\n",
            "('T', 'A', 'G')\n",
            "('T', 'A', 'I')\n",
            "('T', 'A', 'M')\n",
            "('T', 'M', 'G')\n",
            "('T', 'M', 'I')\n",
            "('T', 'M', 'A')\n",
            "('A', 'G', 'I')\n",
            "('A', 'G', 'T')\n",
            "('A', 'G', 'M')\n",
            "('A', 'I', 'G')\n",
            "('A', 'I', 'T')\n",
            "('A', 'I', 'M')\n",
            "('A', 'T', 'G')\n",
            "('A', 'T', 'I')\n",
            "('A', 'T', 'M')\n",
            "('A', 'M', 'G')\n",
            "('A', 'M', 'I')\n",
            "('A', 'M', 'T')\n",
            "('M', 'G', 'I')\n",
            "('M', 'G', 'T')\n",
            "('M', 'G', 'A')\n",
            "('M', 'I', 'G')\n",
            "('M', 'I', 'T')\n",
            "('M', 'I', 'A')\n",
            "('M', 'T', 'G')\n",
            "('M', 'T', 'I')\n",
            "('M', 'T', 'A')\n",
            "('M', 'A', 'G')\n",
            "('M', 'A', 'I')\n",
            "('M', 'A', 'T')\n"
          ],
          "name": "stdout"
        }
      ]
    },
    {
      "cell_type": "code",
      "metadata": {
        "colab": {
          "base_uri": "https://localhost:8080/"
        },
        "id": "GSbujPbqJ5aR",
        "outputId": "3d04c991-e34e-4035-eb1a-48d926387ef4"
      },
      "source": [
        "from itertools import permutations\n",
        "\n",
        "string =\"GITAM\"\n",
        "\n",
        "result = permutations(string)\n",
        "\n",
        "q= list(result)\n",
        "p=len(q)\n",
        "\n",
        "print(\"the answer for this permutation is\",p)"
      ],
      "execution_count": 15,
      "outputs": [
        {
          "output_type": "stream",
          "text": [
            "the answer for this permutation is 120\n"
          ],
          "name": "stdout"
        }
      ]
    },
    {
      "cell_type": "code",
      "metadata": {
        "id": "Kvz42FNAKWJY"
      },
      "source": [
        ""
      ],
      "execution_count": null,
      "outputs": []
    }
  ]
}