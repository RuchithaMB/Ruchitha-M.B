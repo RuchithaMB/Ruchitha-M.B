{
  "nbformat": 4,
  "nbformat_minor": 0,
  "metadata": {
    "colab": {
      "name": "class 7.ipynb",
      "provenance": [],
      "collapsed_sections": [],
      "authorship_tag": "ABX9TyPzmLRGxKS53DRAZSxKOLG0",
      "include_colab_link": true
    },
    "kernelspec": {
      "display_name": "Python 3",
      "name": "python3"
    },
    "language_info": {
      "name": "python"
    }
  },
  "cells": [
    {
      "cell_type": "markdown",
      "metadata": {
        "id": "view-in-github",
        "colab_type": "text"
      },
      "source": [
        "<a href=\"https://colab.research.google.com/github/RuchithaMB/Ruchitha-M.B/blob/main/class_7.ipynb\" target=\"_parent\"><img src=\"https://colab.research.google.com/assets/colab-badge.svg\" alt=\"Open In Colab\"/></a>"
      ]
    },
    {
      "cell_type": "code",
      "metadata": {
        "id": "ox_rtYsqM_fJ",
        "colab": {
          "base_uri": "https://localhost:8080/"
        },
        "outputId": "cefb5280-37c7-428d-85c1-c11acca39ce5"
      },
      "source": [
        "def fact(consonants):\n",
        "  if consonants==0:\n",
        "\n",
        "    return 1\n",
        "\n",
        "  else:\n",
        " \n",
        "    return consonants*fact(consonants-1)\n",
        "\n",
        "consonants = int (input(\"enter the value of consonants:\"))\n",
        "\n",
        "vowels = int (input(\"enter the value of vowels:\"))\n",
        "\n",
        "p = (fact(consonants) / (fact(vowels)*fact(consonants - vowels))) \n",
        "\n",
        "print(\"the combination for the given problem is:\",int(p))\n",
        "\n",
        "\n"
      ],
      "execution_count": 30,
      "outputs": [
        {
          "output_type": "stream",
          "text": [
            "enter the value of consonants:7\n",
            "enter the value of vowels:3\n",
            "the combination for the given problem is: 35\n"
          ],
          "name": "stdout"
        }
      ]
    },
    {
      "cell_type": "code",
      "metadata": {
        "colab": {
          "base_uri": "https://localhost:8080/"
        },
        "id": "Nonf1oEmgYY7",
        "outputId": "debe6a2c-0846-43af-c3d5-221c8c5cef31"
      },
      "source": [
        "def fact(consonants):\n",
        "  if consonants==0:\n",
        "\n",
        "    return 1\n",
        "\n",
        "  else:\n",
        " \n",
        "    return consonants*fact(consonants-1)\n",
        "\n",
        "consonants = int (input(\"enter the value of consonants:\"))\n",
        "\n",
        "vowels = int (input(\"enter the value of vowels:\"))\n",
        "\n",
        "consonants1 = int (input(\"enter the value of consonants:\"))\n",
        "\n",
        "vowels1 = int (input(\"enter the value of vowels:\"))\n",
        "\n",
        "p = fact(consonants) / (fact(vowels)*fact(consonants - vowels))*fact(consonants1) / (fact(vowels1)*fact(consonants1 - vowels1))\n",
        "\n",
        "print(\"the combination for the given problem is:\", int(p))"
      ],
      "execution_count": 33,
      "outputs": [
        {
          "output_type": "stream",
          "text": [
            "enter the value of consonants:7\n",
            "enter the value of vowels:4\n",
            "enter the value of consonants:4\n",
            "enter the value of vowels:2\n",
            "the combination for the given problem is: 210\n"
          ],
          "name": "stdout"
        }
      ]
    },
    {
      "cell_type": "code",
      "metadata": {
        "id": "gVwHu-t1MxOn"
      },
      "source": [
        ""
      ],
      "execution_count": null,
      "outputs": []
    }
  ]
}