{
  "nbformat": 4,
  "nbformat_minor": 0,
  "metadata": {
    "colab": {
      "name": "17/09/21",
      "provenance": [],
      "toc_visible": true,
      "authorship_tag": "ABX9TyOswlnVNBdUMNGBWWlF+Zyi",
      "include_colab_link": true
    },
    "kernelspec": {
      "name": "python3",
      "display_name": "Python 3"
    },
    "language_info": {
      "name": "python"
    }
  },
  "cells": [
    {
      "cell_type": "markdown",
      "metadata": {
        "id": "view-in-github",
        "colab_type": "text"
      },
      "source": [
        "<a href=\"https://colab.research.google.com/github/RuchithaMB/Ruchitha-M.B/blob/main/17_09_21.ipynb\" target=\"_parent\"><img src=\"https://colab.research.google.com/assets/colab-badge.svg\" alt=\"Open In Colab\"/></a>"
      ]
    },
    {
      "cell_type": "code",
      "metadata": {
        "colab": {
          "base_uri": "https://localhost:8080/"
        },
        "id": "zjqYNzlUfaPB",
        "outputId": "692ac83a-900d-4f68-a1df-534288a0463d"
      },
      "source": [
        "import math\n",
        "a = int (input(\"enter the number of right handed screws:\"))\n",
        "b = int(input(\"enter the number of left handed screws: \"))\n",
        "c = int(input (\"number of screws to be selected : \"))\n",
        "d =input(\"enter the replacement or without replacement: \")\n",
        "T = a+ b\n",
        "if d== \"without replacement\":\n",
        "  C1 = math.factorial(b)/math.factorial(b-c)*math.factorial(c)\n",
        "  C2 = math.factorial(T)/math.factorial(T-c)*math.factorial(c)\n",
        "  C = 1-(C1 /C2)\n",
        "  prob = print(\"prob pf atlest one: \",C)\n",
        "else:\n",
        "  prob1 =(b)/T\n",
        "  prob2 =(b)/T\n",
        "  P=1-(prob1*prob2)\n",
        "  print(\"the prob with replacement is : \",P)"
      ],
      "execution_count": null,
      "outputs": [
        {
          "output_type": "stream",
          "name": "stdout",
          "text": [
            "enter the number of right handed screws:20\n",
            "enter the number of left handed screws: 10\n",
            "number of screws to be selected : 2\n",
            "enter the replacement or without replacement: with replacement\n",
            "the prob with replacement is :  0.8888888888888888\n"
          ]
        }
      ]
    }
  ]
}