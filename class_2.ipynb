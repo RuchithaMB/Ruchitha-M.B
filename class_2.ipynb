{
  "nbformat": 4,
  "nbformat_minor": 0,
  "metadata": {
    "colab": {
      "name": "class 2.ipynb",
      "provenance": [],
      "collapsed_sections": [],
      "authorship_tag": "ABX9TyO8UJgfZtYxWdAriWItjjnZ",
      "include_colab_link": true
    },
    "kernelspec": {
      "name": "python3",
      "display_name": "Python 3"
    },
    "language_info": {
      "name": "python"
    }
  },
  "cells": [
    {
      "cell_type": "markdown",
      "metadata": {
        "id": "view-in-github",
        "colab_type": "text"
      },
      "source": [
        "<a href=\"https://colab.research.google.com/github/RuchithaMB/Ruchitha-M.B/blob/main/class_2.ipynb\" target=\"_parent\"><img src=\"https://colab.research.google.com/assets/colab-badge.svg\" alt=\"Open In Colab\"/></a>"
      ]
    },
    {
      "cell_type": "code",
      "metadata": {
        "colab": {
          "base_uri": "https://localhost:8080/"
        },
        "id": "4a0yQiBx6XO-",
        "outputId": "aded70a0-b3b0-46a1-f8e0-04cc8ad50418"
      },
      "source": [
        "list = { 10,40,50}\n",
        "sum = 0\n",
        "for elements in (list):\n",
        "    sum = sum + elements  \n",
        "\n",
        "print(sum)"
      ],
      "execution_count": null,
      "outputs": [
        {
          "output_type": "stream",
          "text": [
            "100\n"
          ],
          "name": "stdout"
        }
      ]
    },
    {
      "cell_type": "code",
      "metadata": {
        "colab": {
          "base_uri": "https://localhost:8080/"
        },
        "id": "ebN9BxIi8qdN",
        "outputId": "a230a41d-a77c-4c51-8d37-43164c467b2e"
      },
      "source": [
        "for i in range(3):\n",
        "  print (\"outer lopp\",i)\n",
        "\n",
        "  for j in range(2):\n",
        "    print (\"inner loop\", j)\n",
        "  print ('\\n')\n",
        "\n"
      ],
      "execution_count": null,
      "outputs": [
        {
          "output_type": "stream",
          "text": [
            "outer lopp 0\n",
            "inner loop 0\n",
            "inner loop 1\n",
            "\n",
            "\n",
            "outer lopp 1\n",
            "inner loop 0\n",
            "inner loop 1\n",
            "\n",
            "\n",
            "outer lopp 2\n",
            "inner loop 0\n",
            "inner loop 1\n",
            "\n",
            "\n"
          ],
          "name": "stdout"
        }
      ]
    },
    {
      "cell_type": "code",
      "metadata": {
        "colab": {
          "base_uri": "https://localhost:8080/"
        },
        "id": "F9fYpdTU97VI",
        "outputId": "f8a202c2-94b4-44ef-e496-a26786653eca"
      },
      "source": [
        "x = 3\n",
        "for i in range (1,4):\n",
        "  for j in range (1,i+1):\n",
        "    print (j,end=\"\")\n",
        "  print()"
      ],
      "execution_count": null,
      "outputs": [
        {
          "output_type": "stream",
          "text": [
            "1\n",
            "12\n",
            "123\n"
          ],
          "name": "stdout"
        }
      ]
    },
    {
      "cell_type": "code",
      "metadata": {
        "colab": {
          "base_uri": "https://localhost:8080/"
        },
        "id": "0lZt0WkIAtzF",
        "outputId": "404af5d8-b915-4db1-e233-90530492c773"
      },
      "source": [
        "for i in range(0,51):\n",
        "  if i%2 == 0:\n",
        "   print (i)\n"
      ],
      "execution_count": null,
      "outputs": [
        {
          "output_type": "stream",
          "text": [
            "0\n",
            "2\n",
            "4\n",
            "6\n",
            "8\n",
            "10\n",
            "12\n",
            "14\n",
            "16\n",
            "18\n",
            "20\n",
            "22\n",
            "24\n",
            "26\n",
            "28\n",
            "30\n",
            "32\n",
            "34\n",
            "36\n",
            "38\n",
            "40\n",
            "42\n",
            "44\n",
            "46\n",
            "48\n",
            "50\n"
          ],
          "name": "stdout"
        }
      ]
    },
    {
      "cell_type": "code",
      "metadata": {
        "colab": {
          "base_uri": "https://localhost:8080/"
        },
        "id": "chrjvMDoCLFa",
        "outputId": "ddb89e9a-370f-4731-962b-85705b3eacc1"
      },
      "source": [
        "f = [i for i in range(1,51) if i%2==0 ]\n",
        "print (f)\n",
        "s = [i for i in range(1,51) if i%2!=0 ]\n",
        "print (s)"
      ],
      "execution_count": null,
      "outputs": [
        {
          "output_type": "stream",
          "text": [
            "[2, 4, 6, 8, 10, 12, 14, 16, 18, 20, 22, 24, 26, 28, 30, 32, 34, 36, 38, 40, 42, 44, 46, 48, 50]\n",
            "[1, 3, 5, 7, 9, 11, 13, 15, 17, 19, 21, 23, 25, 27, 29, 31, 33, 35, 37, 39, 41, 43, 45, 47, 49]\n"
          ],
          "name": "stdout"
        }
      ]
    },
    {
      "cell_type": "code",
      "metadata": {
        "id": "c996eOxAAb30"
      },
      "source": [
        ""
      ],
      "execution_count": null,
      "outputs": []
    }
  ]
}