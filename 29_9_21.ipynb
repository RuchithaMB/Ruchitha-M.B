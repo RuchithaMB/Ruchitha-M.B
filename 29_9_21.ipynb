{
  "nbformat": 4,
  "nbformat_minor": 0,
  "metadata": {
    "colab": {
      "name": "29.9.21.ipynb",
      "provenance": [],
      "collapsed_sections": [],
      "authorship_tag": "ABX9TyNVHIj2YbvIyNi9Ol5kyY5r",
      "include_colab_link": true
    },
    "kernelspec": {
      "name": "python3",
      "display_name": "Python 3"
    },
    "language_info": {
      "name": "python"
    }
  },
  "cells": [
    {
      "cell_type": "markdown",
      "metadata": {
        "id": "view-in-github",
        "colab_type": "text"
      },
      "source": [
        "<a href=\"https://colab.research.google.com/github/RuchithaMB/Ruchitha-M.B/blob/main/29_9_21.ipynb\" target=\"_parent\"><img src=\"https://colab.research.google.com/assets/colab-badge.svg\" alt=\"Open In Colab\"/></a>"
      ]
    },
    {
      "cell_type": "code",
      "metadata": {
        "colab": {
          "base_uri": "https://localhost:8080/"
        },
        "id": "BelsnABIMcJH",
        "outputId": "0e4d1c05-7fb1-469d-e0fe-ed77056ba4cc"
      },
      "source": [
        "#OPEN HASH TECHNIQUE\n",
        "\n",
        "HashTable=[[] for _ in range(10)]\n",
        "#Hashkey generator\n",
        "def Hashing(keyvalue):\n",
        "  i=keyvalue%len(HashTable)\n",
        "  return(i)\n",
        "#insert the data\n",
        "def insert(HashTable,keyvalue,value):\n",
        "  Hashkey=Hashing(keyvalue)\n",
        "  HashTable[Hashkey].append(value)\n",
        "#insert the data\n",
        "insert(HashTable,10,'RUCHITHA')\n",
        "insert(HashTable,25,'CHRISTOPHER')\n",
        "insert(HashTable,20,'MILEY')\n",
        "insert(HashTable,0,'TIM')\n",
        "HashTable"
      ],
      "execution_count": 7,
      "outputs": [
        {
          "output_type": "execute_result",
          "data": {
            "text/plain": [
              "[['RUCHITHA', 'MILEY', 'TIM'], [], [], [], [], ['CHRISTOPHER'], [], [], [], []]"
            ]
          },
          "metadata": {},
          "execution_count": 7
        }
      ]
    },
    {
      "cell_type": "code",
      "metadata": {
        "id": "G32xzNGQNgsE"
      },
      "source": [
        "hash_table = [[] for _ in range(10)]\n",
        "print (hash_table)\n",
        "\n",
        "def insert(hash_table, key, value):\n",
        "\thash_key = hash(key) % len(hash_table)\n",
        "\tkey_exists = False\n",
        "\tbucket = hash_table[hash_key]\t\n",
        "\tfor i, kv in enumerate(bucket):\n",
        "\t\tk, v = kv\n",
        "\t\tif key == k:\n",
        "\t\t\tkey_exists = True \n",
        "\t\t\tbreak\n",
        "\tif key_exists:\n",
        "\t\tbucket[i] = ((key, value))\n",
        "\telse:\n",
        "\t\tbucket.append((key, value))\n",
        "\n",
        "\n",
        "insert(hash_table, 10, 'Nepal')\n",
        "insert(hash_table, 25, 'USA')\n",
        "insert(hash_table, 20, 'India')\n",
        "print (hash_table)\n",
        "\n",
        "def search(hash_table, key):\n",
        "\thash_key = hash(key) % len(hash_table)\t\n",
        "\tbucket = hash_table[hash_key]\n",
        "\tfor i, kv in enumerate(bucket):\n",
        "\t\tk, v = kv\n",
        "\t\tif key == k:\n",
        "\t\t\treturn v\n",
        "\n",
        "print (search(hash_table, 10)) # Output: Nepal\n",
        "print (search(hash_table, 20)) # Output: India\n",
        "print (search(hash_table, 25)) # Output: None"
      ],
      "execution_count": null,
      "outputs": []
    }
  ]
}