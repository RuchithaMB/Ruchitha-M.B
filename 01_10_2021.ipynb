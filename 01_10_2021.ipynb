{
  "nbformat": 4,
  "nbformat_minor": 0,
  "metadata": {
    "colab": {
      "name": "01.10.2021.ipynb",
      "provenance": [],
      "authorship_tag": "ABX9TyMWOFY36fBXiH41gS1jvbZA",
      "include_colab_link": true
    },
    "kernelspec": {
      "name": "python3",
      "display_name": "Python 3"
    },
    "language_info": {
      "name": "python"
    }
  },
  "cells": [
    {
      "cell_type": "markdown",
      "metadata": {
        "id": "view-in-github",
        "colab_type": "text"
      },
      "source": [
        "<a href=\"https://colab.research.google.com/github/RuchithaMB/Ruchitha-M.B/blob/main/01_10_2021.ipynb\" target=\"_parent\"><img src=\"https://colab.research.google.com/assets/colab-badge.svg\" alt=\"Open In Colab\"/></a>"
      ]
    },
    {
      "cell_type": "code",
      "metadata": {
        "colab": {
          "base_uri": "https://localhost:8080/"
        },
        "id": "qrnzkRNfyxZ3",
        "outputId": "951fd60d-4ca7-47c1-f974-254e16b5bdad"
      },
      "source": [
        "import csv\n",
        "\n",
        "\n",
        "stock_prices = []\n",
        "\n",
        "with  open('/content/stock-prices.csv', 'r') as f:\n",
        "\n",
        "  for line in f:\n",
        "    token = line.split(',')\n",
        "    day = token[0]\n",
        "    price = token[1]\n",
        "    stock_prices.append([day,price])\n",
        "\n",
        "stock_prices"
      ],
      "execution_count": 3,
      "outputs": [
        {
          "output_type": "execute_result",
          "data": {
            "text/plain": [
              "[['\\ufeff06-Mar', '310\\n'],\n",
              " ['07-Mar', '340\\n'],\n",
              " ['08-Mar', '380\\n'],\n",
              " ['09-Mar', '302\\n'],\n",
              " ['10-Mar', '297\\n'],\n",
              " ['11-Mar', '320\\n']]"
            ]
          },
          "metadata": {},
          "execution_count": 3
        }
      ]
    },
    {
      "cell_type": "code",
      "metadata": {
        "colab": {
          "base_uri": "https://localhost:8080/"
        },
        "id": "_U9WiKXOy3b_",
        "outputId": "6edba97b-55ef-43a2-ce79-cb677d38f07b"
      },
      "source": [
        "import csv\n",
        "\n",
        "\n",
        "stock_prices = []\n",
        "\n",
        "with  open('/content/stock-prices.csv', 'r') as f:\n",
        "\n",
        "  for line in f:\n",
        "    token = line.split(',')\n",
        "    day = token[0]\n",
        "    price = token[1]\n",
        "    stock_prices.append([day,price])\n",
        "\n",
        "print(\"\\n\", stock_prices)\n",
        "\n",
        "print(\"\\n\", stock_prices[1])"
      ],
      "execution_count": 4,
      "outputs": [
        {
          "output_type": "stream",
          "name": "stdout",
          "text": [
            "\n",
            " [['\\ufeff06-Mar', '310\\n'], ['07-Mar', '340\\n'], ['08-Mar', '380\\n'], ['09-Mar', '302\\n'], ['10-Mar', '297\\n'], ['11-Mar', '320\\n']]\n",
            "\n",
            " ['07-Mar', '340\\n']\n"
          ]
        }
      ]
    },
    {
      "cell_type": "code",
      "metadata": {
        "colab": {
          "base_uri": "https://localhost:8080/"
        },
        "id": "c3dy6EeVzHoU",
        "outputId": "d708f28e-6179-4075-e2b7-b961bd076df6"
      },
      "source": [
        "import csv\n",
        "\n",
        "\n",
        "stock_prices = []\n",
        "\n",
        "with  open('/content/stock-prices.csv', 'r') as f:\n",
        "\n",
        "  for line in f:\n",
        "    token = line.split(',')\n",
        "    day = token[0]\n",
        "    price = token[1]\n",
        "    stock_prices.append([day,price])\n",
        "\n",
        "stock_prices\n",
        "\n",
        "stock_prices[1]"
      ],
      "execution_count": 5,
      "outputs": [
        {
          "output_type": "execute_result",
          "data": {
            "text/plain": [
              "['07-Mar', '340\\n']"
            ]
          },
          "metadata": {},
          "execution_count": 5
        }
      ]
    }
  ]
}